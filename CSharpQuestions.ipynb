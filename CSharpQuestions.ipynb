{
 "cells": [
  {
   "cell_type": "markdown",
   "id": "253de93b",
   "metadata": {},
   "source": [
    "# Question 1:\n",
    "What data type is each of the following?"
   ]
  },
  {
   "cell_type": "code",
   "execution_count": 57,
   "id": "f71689c2",
   "metadata": {},
   "outputs": [
    {
     "name": "stdout",
     "output_type": "stream",
     "text": [
      "System.Int32\n",
      "System.Double\n",
      "System.Boolean\n",
      "System.Char\n",
      "System.Int32\n",
      "System.Int32\n",
      "System.Int32\n",
      "System.Int32\n",
      "System.Int32\n",
      "System.Boolean\n",
      "System.Int32\n",
      "System.ValueTuple`3[System.Int32,System.Int32,System.Int32]\n",
      "System.Double\n"
     ]
    }
   ],
   "source": [
    "Console.WriteLine(5.GetType());\n",
    "            Console.WriteLine(5.0.GetType());\n",
    "            Console.WriteLine((5 > 1).GetType());\n",
    "            Console.WriteLine('5'.GetType());\n",
    "            Console.WriteLine((5 * 2).GetType());\n",
    "            Console.WriteLine(('5' * 2).GetType());\n",
    "            Console.WriteLine(('5' + '2').GetType());\n",
    "            Console.WriteLine((5 / 2).GetType());\n",
    "            Console.WriteLine((5 % 2).GetType());\n",
    "            Console.WriteLine((5 == 3).GetType());\n",
    "            Console.WriteLine((5 % 2).GetType());\n",
    "            Console.WriteLine((5, 2, 1).GetType());\n",
    "            Console.WriteLine((Math.PI).GetType());"
   ]
  },
  {
   "cell_type": "markdown",
   "id": "492ad3d9",
   "metadata": {},
   "source": [
    "# Question 2:\n",
    "Write (and evaluate) C# expressions that answer these questions:\n",
    "a. How many letters are there in 'Supercalifragilisticexpialidocious'?\n",
    "b. Does 'Supercalifragilisticexpialidocious' contain 'ice' as a substring?\n",
    "c. Which of the following words is the longest: Supercalifragilisticexpialidocious, Honorificabilitudinitatibus, or Bababadalgharaghtakamminarronnkonn?\n",
    "d. Which composer comes first in the dictionary: 'Berlioz', 'Borodin', 'Brian', 'Bartok', 'Bellini', 'Buxtehude', 'Bernstein'. Which one comes last?"
   ]
  },
  {
   "cell_type": "code",
   "execution_count": 40,
   "id": "91e03d94",
   "metadata": {},
   "outputs": [
    {
     "name": "stdout",
     "output_type": "stream",
     "text": [
      "34\n",
      "===============================================\n",
      "True\n",
      "===============================================\n",
      "Longest string  of Supercalifragilisticexpialidocious ,Honorificabilitudinitatibus and Bababadalgharaghtakamminarronnkonn  is \n",
      "Supercalifragilisticexpialidocious  Bababadalgharaghtakamminarronnkonn  \n",
      " ===============================================\n",
      "Berlioz Borodin Brian Bartok Bellini Buxtehude Bernstein Last word is : Buxtehude\n"
     ]
    }
   ],
   "source": [
    "using System.Collections.Generic;\n",
    "\n",
    "string str1 = \"Supercalifragilisticexpialidocious\";\n",
    "            int Length = str1.Length;\n",
    "            Console.WriteLine(Length);\n",
    "            Console.WriteLine(\"===============================================\");\n",
    "\n",
    "\n",
    "            String substring = \"ice\";\n",
    "\n",
    "\n",
    "            Console.WriteLine(str1.Contains(substring));\n",
    "            Console.WriteLine(\"===============================================\");\n",
    "            string x = \"Supercalifragilisticexpialidocious\";\n",
    "            string y = \"Honorificabilitudinitatibus\";\n",
    "            string z = \"Bababadalgharaghtakamminarronnkonn\";\n",
    "            int L1, L2, L3;\n",
    "            \n",
    "         \n",
    "            L1 = x.Length;\n",
    "            L2 = y.Length;\n",
    "            L3 = z.Length;\n",
    "            int MaxLength = 0;\n",
    "            if (L1 >= MaxLength)\n",
    "            {\n",
    "                MaxLength = L1;\n",
    "            }\n",
    "            if (L2 >= MaxLength)\n",
    "            {\n",
    "                MaxLength = L2;\n",
    "            }\n",
    "\n",
    "            if (L3 >= MaxLength)\n",
    "            {\n",
    "                MaxLength = L3;\n",
    "            }\n",
    "            List<string> longeststrings = new List<string>();\n",
    "            if (MaxLength == L1)\n",
    "                longeststrings.Add(x);\n",
    "            if (MaxLength == L2)\n",
    "                longeststrings.Add(y);\n",
    "            if (MaxLength == L3)\n",
    "                longeststrings.Add(z);\n",
    "\n",
    "            Console.WriteLine(\"Longest string  of {0} ,{1} and {2}  is \", x, y, z);\n",
    "            foreach (var ele in longeststrings)\n",
    "            {\n",
    "                Console.Write(ele + \"  \");\n",
    "                   \n",
    "            }\n",
    "            \n",
    "            Console.WriteLine(\"\\n ===============================================\");\n",
    "\n",
    "\n",
    "        \n",
    "            string[] values = {\"Berlioz\",\"Borodin\", \"Brian\",\"Bartok\", \"Bellini\", \"Buxtehude\", \"Bernstein\" };\n",
    "\n",
    "            foreach (string value in values)\n",
    "            {\n",
    "                Console.Write(value);\n",
    "                Console.Write(\" \");\n",
    "            }\n",
    "\n",
    "            Array.Sort(values);\n",
    "            Console.WriteLine(\"Last word is : \" + values[values.Length - 1]);\n",
    "     \n"
   ]
  },
  {
   "cell_type": "markdown",
   "id": "ae0e764c",
   "metadata": {},
   "source": [
    "# Question 3:\n",
    "Implement function triangleArea(a,b,c) that takes as input the lengths of the 3 sides of a triangle and returns the area of the triangle. By Heron's formula, the area of a triangle with side lengths a, b, and c is s(s-a)(s-b)(s-c), where\n",
    "s=(a+b+c)/2."
   ]
  },
  {
   "cell_type": "code",
   "execution_count": 41,
   "id": "f131d06f",
   "metadata": {},
   "outputs": [
    {
     "name": "stdout",
     "output_type": "stream",
     "text": [
      "Enter the length of side 1:\n",
      "Enter the length of side 2:\n",
      "Enter the length of side 3:\n",
      "Area of a Triangle = 0\n"
     ]
    }
   ],
   "source": [
    "Console.WriteLine(\"Enter the length of side 1:\");\n",
    "int side1 = (int)Convert.ToDouble(Console.ReadLine());\n",
    "Console.WriteLine(\"Enter the length of side 2:\");\n",
    "int side2 = (int)Convert.ToDouble(Console.ReadLine());\n",
    "Console.WriteLine(\"Enter the length of side 3:\");\n",
    "int side3 = (int)Convert.ToDouble(Console.ReadLine());\n",
    "double s = (side1 + side2 + side3) / 2;\n",
    "double triangle_area = Math.Sqrt(s * (s- side1) * (s - side2) * (s - side3));\n",
    "Console.WriteLine(\"Area of a Triangle = \" + triangle_area);\n",
    "Console.ReadLine();\n",
    "\n"
   ]
  },
  {
   "cell_type": "markdown",
   "id": "1486a2ff",
   "metadata": {},
   "source": [
    "# Question 4:\n",
    "Write a program in C# Sharp to separate odd and even integers in separate arrays. Go to the editor\n",
    "Test Data :\n",
    "Input the number of elements to be stored in the array :5\n",
    "Input 5 elements in the array : element - 0 : 25\n",
    "element - 1 : 47\n",
    "element - 2 : 42\n",
    "element - 3 : 56 element - 4 : 32"
   ]
  },
  {
   "cell_type": "code",
   "execution_count": 47,
   "id": "c24ebe87",
   "metadata": {},
   "outputs": [
    {
     "name": "stdout",
     "output_type": "stream",
     "text": [
      "The Even elements are:\n",
      "42  56  32  \n",
      "The Odd elements are:\n",
      "25  47  "
     ]
    }
   ],
   "source": [
    "using System.Collections.Generic;\n",
    "\n",
    "\n",
    "List<int> elements = new List<int>() {25,47,42,56,32};\n",
    "            List<int> evenElements = new List<int>();\n",
    "            List<int> oddElements = new List<int>();\n",
    "            foreach (var ele in elements)\n",
    "            {\n",
    "                if ((ele % 2) == 0)\n",
    "                {\n",
    "                    evenElements.Add(ele);\n",
    "\n",
    "                }\n",
    "\n",
    "                else\n",
    "                {\n",
    "                    oddElements.Add(ele);\n",
    "                }\n",
    "            }\n",
    "                Console.WriteLine(\"The Even elements are:\");\n",
    "\n",
    "                foreach (var evenele in evenElements)\n",
    "                {\n",
    "                    Console.Write(evenele +\"  \");\n",
    "                }\n",
    "                Console.WriteLine(\"\\nThe Odd elements are:\");\n",
    "\n",
    "                foreach (var oddele in oddElements)\n",
    "                {\n",
    "                    Console.Write(oddele +\"  \");\n",
    "                }"
   ]
  },
  {
   "cell_type": "markdown",
   "id": "98de157b",
   "metadata": {},
   "source": [
    "# Question 5:\n",
    "a. Write a function inside(x,y,x1,y1,x2,y2) that returns True or False depending on whether the point (x,y) lies in the rectangle with lower left corner (x1,y1) and upper right corner (x2,y2).\n",
    "b.Use function inside() from part a. to write an expression that tests whether the point (1,1) lies in both of the following rectangles: one with lower left corner (0.3, 0.5) and upper right corner (1.1, 0.7) and the other with lower left corner (0.5, 0.2) and upper right corner (1.1, 2)."
   ]
  },
  {
   "cell_type": "code",
   "execution_count": 56,
   "id": "d90dfc5e",
   "metadata": {},
   "outputs": [
    {
     "name": "stdout",
     "output_type": "stream",
     "text": [
      "True\n",
      "False\n",
      "True\n"
     ]
    }
   ],
   "source": [
    "public static bool inside(double x, double y, double x1, double y1, double x2,\n",
    "                             double y2)\n",
    "        {\n",
    "            if (x > x1 && x < x2 &&\n",
    "                y > y1 && y < y2)\n",
    "                return true;\n",
    "\n",
    "            return false;\n",
    "        }\n",
    "\n",
    "\n",
    "            double x1 = 0, y1 = 0,\n",
    "                x2 = 2, y2 = 3;\n",
    "\n",
    "\n",
    "            double x = 1, y = 1;\n",
    "\n",
    "\n",
    "            if (inside(x, y, x1, y1, x2, y2))\n",
    "                Console.WriteLine(\"True\");\n",
    "            else\n",
    "                Console.WriteLine(\"False\");\n",
    "\n",
    "            if (inside(1, 1, 0.3, 0.5, 1.1, 0.7))\n",
    "                Console.WriteLine(\"True\");\n",
    "            else\n",
    "                Console.WriteLine(\"False\");\n",
    "\n",
    "            if (inside(1, 1, 0.5, 0.2, 1.1, 2))\n",
    "                Console.WriteLine(\"True\");\n",
    "            else\n",
    "                Console.WriteLine(\"False\");\n",
    "\n",
    "\n",
    "        "
   ]
  },
  {
   "cell_type": "code",
   "execution_count": null,
   "id": "c81618f2",
   "metadata": {},
   "outputs": [],
   "source": []
  }
 ],
 "metadata": {
  "kernelspec": {
   "display_name": ".NET (C#)",
   "language": "C#",
   "name": ".net-csharp"
  },
  "language_info": {
   "file_extension": ".cs",
   "mimetype": "text/x-csharp",
   "name": "C#",
   "pygments_lexer": "csharp",
   "version": "8.0"
  }
 },
 "nbformat": 4,
 "nbformat_minor": 5
}
