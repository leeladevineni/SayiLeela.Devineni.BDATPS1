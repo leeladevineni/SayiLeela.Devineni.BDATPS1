{
 "cells": [
  {
   "cell_type": "markdown",
   "id": "5b37b159",
   "metadata": {},
   "source": [
    "# Question 6:\n",
    "You can turn a word into pig-Latin using the following two rules (simplified):\n",
    "• If the word starts with a consonant, move that letter to the end and append\n",
    "'ay'. For example, 'happy' becomes 'appyhay' and 'pencil' becomes 'encilpay'.\n",
    "• If the word starts with a vowel, simply append 'way' to the end of the word.\n",
    "For example, 'enter' becomes 'enterway' and 'other' becomes 'otherway' . For\n",
    "our purposes, there are 5 vowels: a, e, i, o, u (so we count y as a consonant). Write a function pig() that takes a word (i.e., a string) as input and returns its pig- Latin form. Your function should still work if the input word contains upper case characters. Your output should always be lower case however."
   ]
  },
  {
   "cell_type": "code",
   "execution_count": 177,
   "id": "6338bcd2",
   "metadata": {},
   "outputs": [
    {
     "name": "stdout",
     "output_type": "stream",
     "text": [
      "appyhay\n",
      "Enterway\n"
     ]
    }
   ],
   "source": [
    "def pig(x): \n",
    "    if x[0] not in ['a','e','i','o','u','A','E','I','0','U']:\n",
    "        y =x[1:]+x[0]+ \"ay\"\n",
    "        print(y)\n",
    "    else:\n",
    "        print(x+\"way\")\n",
    "pig(\"happy\")\n",
    "pig(\"Enter\")"
   ]
  },
  {
   "cell_type": "markdown",
   "id": "5beb28af",
   "metadata": {},
   "source": [
    "# Question 7:\n",
    "File bloodtype1.txt records blood-types of patients (A, B, AB, O or OO) at a clinic. Write a function bldcount() that reads the file with name name and reports (i.e., prints) how many patients there are in each bloodtype.\n",
    "\n"
   ]
  },
  {
   "cell_type": "code",
   "execution_count": 173,
   "id": "9aef76e1",
   "metadata": {},
   "outputs": [
    {
     "name": "stdout",
     "output_type": "stream",
     "text": [
      "There are 13 Patients of Blood Type AB\n",
      "There is 1 Patient of Blood Type B\n",
      "There are 15 Patients of Blood Type O\n",
      "There are 15 Patients of Blood Type A\n"
     ]
    }
   ],
   "source": [
    "from collections import Counter\n",
    "def bldcount(file_name): \n",
    "    with open('/Users/Leela/Downloads/' + str(file_name)  ,'r') as f:\n",
    "        for row in f:\n",
    "            bt_list = row.split()\n",
    "    a = Counter(bt_list)\n",
    "    for el in a:\n",
    "        if a[el] == 1:\n",
    "            print(\"There is 1 Patient of Blood Type \" + str(el))\n",
    "        else:\n",
    "            print(\"There are \" +  str(a[el]) +\" Patients of Blood Type \" + str(el))\n",
    "bldcount(\"bloodtype1.txt\")"
   ]
  },
  {
   "cell_type": "markdown",
   "id": "d9abe42d",
   "metadata": {},
   "source": [
    "# Question 8:\n",
    "Write a function curconv() that takes as input:\n",
    "1. a currency represented using a string (e.g., 'JPY' for the Japanese Yen or 'EUR' for the Euro)\n",
    "2. an amount\n",
    "and then converts and returns the amount in US dollars.\n"
   ]
  },
  {
   "cell_type": "code",
   "execution_count": 174,
   "id": "2e417783",
   "metadata": {},
   "outputs": [
    {
     "data": {
      "text/plain": [
       "103.45157"
      ]
     },
     "execution_count": 174,
     "metadata": {},
     "output_type": "execute_result"
    }
   ],
   "source": [
    "def curconv(cur,val):\n",
    "    dict1 = {}\n",
    "    with open('/Users/Leela/Downloads/currencies.txt','r') as f:\n",
    "        for row in f:\n",
    "            dict1[row.split()[0]] = row.split()[1] \n",
    "    return float(dict1[cur]) * val\n",
    "curconv('AUD',100)"
   ]
  },
  {
   "cell_type": "markdown",
   "id": "b19ef178",
   "metadata": {},
   "source": [
    "# Question 9:\n",
    "Each of the following will cause an exception (an error). Identify what type of exception each will cause.\n",
    "Trying to add incompatible variables, as in adding 6 + ‘a’\n",
    "Referring to the 12th item of a list that has only 10 items\n",
    "Using a value that is out of range for a function’s input, such as calling math.sqrt(-1.0)\n",
    "Using an undeclared variable, such as print(x) when x has not been defined\n",
    "Trying to open a file that does not exist, such as mistyping the file name or looking in the wrong directory."
   ]
  },
  {
   "cell_type": "code",
   "execution_count": 160,
   "id": "23c55076",
   "metadata": {},
   "outputs": [
    {
     "name": "stdout",
     "output_type": "stream",
     "text": [
      "Trying to add incompatible variable.\n",
      "Referring to the 12th item of a list that has only 10 items\n",
      "Using a value that is out of range for a function’s input.\n",
      "Using an undeclared variable.\n",
      "Trying to open a file that does not exist, such as mistyping the file name or looking in the wrong directory.\n"
     ]
    }
   ],
   "source": [
    "try: \n",
    "    x = 6\n",
    "    y = 'a'\n",
    "    print (x+y) \n",
    "except TypeError: \n",
    "    print (\"Trying to add incompatible variable.\")\n",
    "else: \n",
    "    print (\"Success\")\n",
    "    \n",
    "try:\n",
    "    x =[1,2,3,4,5,6,7,8,9,10]\n",
    "    print (x[11])\n",
    "except IndexError:\n",
    "    print (\"Referring to the 12th item of a list that has only 10 items\")\n",
    "else:\n",
    "    print (\"Success\")\n",
    "try:\n",
    "    x = math.sqrt(-1.0)\n",
    "    print(x)\n",
    "except ValueError: \n",
    "    print (\"Using a value that is out of range for a function’s input.\")\n",
    "else: \n",
    "    print (\"Success\")\n",
    "try:\n",
    "    y = a\n",
    "    print(x)\n",
    "except NameError: \n",
    "    print (\"Using an undeclared variable.\")\n",
    "else: \n",
    "    print (\"Success\")\n",
    "    \n",
    "try:\n",
    "     open('/Users/Leela/Downloads/currencis.txt')\n",
    "except FileNotFoundError: \n",
    "    print (\"Trying to open a file that does not exist, such as mistyping the file name or looking in the wrong directory.\")\n",
    "else: \n",
    "    print (\"Success\")\n",
    "    \n"
   ]
  },
  {
   "cell_type": "markdown",
   "id": "2387ccb8",
   "metadata": {},
   "source": [
    "# Question 10:\n",
    "Assume that the string letters is already defined as 'abcdefghijklmnopqrstuvwxyz'. Write a function called frequencies() that takes a string as its only parameter, and returns a list of integers, showing the number of times each character appears in the text. Your function may ignore any characters that are not in letters."
   ]
  },
  {
   "cell_type": "code",
   "execution_count": 178,
   "id": "07eb7cb7",
   "metadata": {},
   "outputs": [
    {
     "name": "stdout",
     "output_type": "stream",
     "text": [
      "[1, 0, 0, 0, 1, 0, 0, 0, 0, 0, 0, 1, 0, 0, 0, 2, 0, 0, 0, 0, 0, 0, 0, 0, 0, 0]\n",
      "[1, 1, 1, 3, 5, 1, 1, 2, 1, 0, 1, 0, 1, 2, 4, 0, 1, 2, 0, 3, 1, 0, 1, 1, 0, 0]\n"
     ]
    }
   ],
   "source": [
    "def frequencies(str1):\n",
    "    dict = {}\n",
    "    str2= str1.lower()\n",
    "    for n in str2:\n",
    "        keys = dict.keys()\n",
    "        if n in keys:\n",
    "            dict[n] += 1\n",
    "        else:\n",
    "            dict[n] = 1\n",
    "    array1 =['a','b','c','d','e','f','g','h','i','j','k','l','m','n','o','p','q','r','s','t','u','v','w','x','y','z']\n",
    "    output_array =[]\n",
    "    for z in array1:\n",
    "        keys = dict.keys()\n",
    "        if z in keys:\n",
    "            output_array.append(dict[z])\n",
    "        else:\n",
    "            output_array.append(0)\n",
    "    print(output_array)           \n",
    "            \n",
    "frequencies('apple.')\n",
    "frequencies('The quick red fox got bored and went home.')"
   ]
  },
  {
   "cell_type": "code",
   "execution_count": null,
   "id": "ecdb5bc2",
   "metadata": {},
   "outputs": [],
   "source": []
  }
 ],
 "metadata": {
  "kernelspec": {
   "display_name": "Python 3 (ipykernel)",
   "language": "python",
   "name": "python3"
  },
  "language_info": {
   "codemirror_mode": {
    "name": "ipython",
    "version": 3
   },
   "file_extension": ".py",
   "mimetype": "text/x-python",
   "name": "python",
   "nbconvert_exporter": "python",
   "pygments_lexer": "ipython3",
   "version": "3.9.7"
  }
 },
 "nbformat": 4,
 "nbformat_minor": 5
}
